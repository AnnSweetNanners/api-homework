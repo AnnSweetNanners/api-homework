{
 "cells": [
  {
   "cell_type": "markdown",
   "metadata": {},
   "source": [
    "# Unit 5 - Financial Planning\n"
   ]
  },
  {
   "cell_type": "code",
   "execution_count": 32,
   "metadata": {},
   "outputs": [],
   "source": [
    "# Initial imports\n",
    "import os\n",
    "import requests\n",
    "import pandas as pd\n",
    "from dotenv import load_dotenv\n",
    "import alpaca_trade_api as tradeapi\n",
    "from MCForecastTools import MCSimulation\n",
    "\n",
    "%matplotlib inline"
   ]
  },
  {
   "cell_type": "code",
   "execution_count": 33,
   "metadata": {},
   "outputs": [
    {
     "data": {
      "text/plain": [
       "True"
      ]
     },
     "execution_count": 33,
     "metadata": {},
     "output_type": "execute_result"
    }
   ],
   "source": [
    "# Load .env enviroment variables\n",
    "load_dotenv()"
   ]
  },
  {
   "cell_type": "markdown",
   "metadata": {},
   "source": [
    "## Part 1 - Personal Finance Planner"
   ]
  },
  {
   "cell_type": "code",
   "execution_count": 34,
   "metadata": {},
   "outputs": [],
   "source": [
    "# Set monthly household income\n",
    "# YOUR CODE HERE!\n",
    "monthly_household_income = 12000.00"
   ]
  },
  {
   "cell_type": "markdown",
   "metadata": {},
   "source": [
    "### Collect Crypto Prices Using the `requests` Library"
   ]
  },
  {
   "cell_type": "code",
   "execution_count": 35,
   "metadata": {},
   "outputs": [],
   "source": [
    "# Current amount of crypto assets\n",
    "my_btc = 1.2\n",
    "my_eth = 5.3"
   ]
  },
  {
   "cell_type": "code",
   "execution_count": 36,
   "metadata": {},
   "outputs": [],
   "source": [
    "# Crypto API URLs\n",
    "btc_url = \"https://api.alternative.me/v2/ticker/Bitcoin/?convert=USD\"\n",
    "eth_url = \"https://api.alternative.me/v2/ticker/Ethereum/?convert=USD\""
   ]
  },
  {
   "cell_type": "code",
   "execution_count": 37,
   "metadata": {},
   "outputs": [
    {
     "name": "stdout",
     "output_type": "stream",
     "text": [
      "The current value of your 1.2 BTC is $13641.77\n",
      "The current value of your 5.3 ETH is $2029.37\n"
     ]
    }
   ],
   "source": [
    "# Fetch current BTC price\n",
    "# YOUR CODE HERE!\n",
    "\n",
    "'''change to json format'''\n",
    "btc_url=btc_url + \"?format=json\"\n",
    "\n",
    "btc_response_data=requests.get(btc_url)\n",
    "\n",
    "import json\n",
    "\n",
    "'''convert to json data'''\n",
    "btc_data=btc_response_data.json()\n",
    "'''test print json data to iterate to btc price value. commented out for brevity'''\n",
    "# print(json.dumps(btc_data, indent=4))\n",
    "\n",
    "'''assign btc value to variable'''\n",
    "btc_price=btc_data['data']['1']['quotes']['USD']['price']\n",
    "# print(btc_price)\n",
    "\n",
    "# Fetch current ETH price\n",
    "# YOUR CODE HERE!]\n",
    "eth_url=eth_url+\"?format=json\"\n",
    "eth_response_data=requests.get(eth_url)\n",
    "\n",
    "'''convert to json data'''\n",
    "eth_data=eth_response_data.json()\n",
    "'''test print json data to iterate to eth price value.'''\n",
    "# print(json.dumps(eth_data, indent=4))\n",
    "\n",
    "eth_price=eth_data['data']['1027']['quotes']['USD']['price']\n",
    "# print(eth_price)\n",
    "\n",
    "# Compute current value of my crpto\n",
    "# YOUR CODE HERE!\n",
    "my_btc_value=my_btc*btc_price\n",
    "my_eth_value=my_eth*eth_price\n",
    "\n",
    "# # Print current crypto wallet balance\n",
    "print(f\"The current value of your {my_btc} BTC is ${my_btc_value:0.2f}\")\n",
    "print(f\"The current value of your {my_eth} ETH is ${my_eth_value:0.2f}\")"
   ]
  },
  {
   "cell_type": "markdown",
   "metadata": {},
   "source": [
    "### Collect Investments Data Using Alpaca: `SPY` (stocks) and `AGG` (bonds)"
   ]
  },
  {
   "cell_type": "code",
   "execution_count": 38,
   "metadata": {},
   "outputs": [],
   "source": [
    "# Current amount of shares\n",
    "my_agg = 200\n",
    "my_spy = 50"
   ]
  },
  {
   "cell_type": "code",
   "execution_count": 39,
   "metadata": {},
   "outputs": [],
   "source": [
    "# Set Alpaca API key and secret\n",
    "# YOUR CODE HERE!\n",
    "alpaca_api_key=os.getenv(\"ALPACA_API_KEY\")\n",
    "alpaca_secret_key=os.getenv(\"ALPACA_SECRET_KEY\")\n",
    "\n",
    "'''test keys'''\n",
    "# print(f\"Alpaca Key: {type(alpaca_api_key)}\")\n",
    "# print(f\"Alpaca Secret Key: {type(alpaca_secret_key)}\")\n",
    "# Create the Alpaca API object\n",
    "# YOUR CODE HERE!\n",
    "alpaca=tradeapi.REST(\n",
    "    alpaca_api_key,\n",
    "    alpaca_secret_key,\n",
    "    api_version='v2'\n",
    ")\n"
   ]
  },
  {
   "cell_type": "code",
   "execution_count": 40,
   "metadata": {},
   "outputs": [
    {
     "name": "stdout",
     "output_type": "stream",
     "text": [
      "Current AGG closing price: $118.37\n",
      "Current SPY closing price: $337.22\n"
     ]
    }
   ],
   "source": [
    "# Format current date as ISO format\n",
    "# YOUR CODE HERE!\n",
    "today=pd.Timestamp('2020-08-19', tz=\"America/New_York\").isoformat()\n",
    "\n",
    "# Set the tickers\n",
    "tickers = [\"AGG\", \"SPY\"]\n",
    "\n",
    "# Set timeframe to '1D' for Alpaca API\n",
    "timeframe = \"1D\"\n",
    "\n",
    "# Get current closing prices for SPY and AGG\n",
    "# YOUR CODE HERE!\n",
    "df_portfolio=alpaca.get_barset(\n",
    "    tickers,\n",
    "    timeframe,\n",
    "    start=today,\n",
    "    end=today\n",
    ").df\n",
    "\n",
    "'''Remove System Time/Trade Close time from index'''\n",
    "df_portfolio.index=df_portfolio.index.date\n",
    "df_portfolio\n",
    "    \n",
    "# Pick AGG and SPY close prices\n",
    "# YOUR CODE HERE!\n",
    "agg_close_price=float(df_portfolio['AGG']['close'])\n",
    "spy_close_price=float(df_portfolio['SPY']['close'])\n",
    "\n",
    "# # Print AGG and SPY close prices\n",
    "print(f\"Current AGG closing price: ${agg_close_price}\")\n",
    "print(f\"Current SPY closing price: ${spy_close_price}\")"
   ]
  },
  {
   "cell_type": "code",
   "execution_count": 41,
   "metadata": {},
   "outputs": [
    {
     "name": "stdout",
     "output_type": "stream",
     "text": [
      "The current value of your 50 SPY shares is $16861.00\n",
      "The current value of your 200 AGG shares is $23674.00\n"
     ]
    }
   ],
   "source": [
    "# Compute the current value of shares\n",
    "# YOUR CODE HERE!\n",
    "\n",
    "my_spy_value=my_spy*spy_close_price\n",
    "my_agg_value=my_agg*agg_close_price\n",
    "\n",
    "# Print current value of share\n",
    "print(f\"The current value of your {my_spy} SPY shares is ${my_spy_value:0.2f}\")\n",
    "print(f\"The current value of your {my_agg} AGG shares is ${my_agg_value:0.2f}\")"
   ]
  },
  {
   "cell_type": "markdown",
   "metadata": {},
   "source": [
    "### Savings Health Analysis"
   ]
  },
  {
   "cell_type": "code",
   "execution_count": 42,
   "metadata": {},
   "outputs": [
    {
     "data": {
      "text/html": [
       "<div>\n",
       "<style scoped>\n",
       "    .dataframe tbody tr th:only-of-type {\n",
       "        vertical-align: middle;\n",
       "    }\n",
       "\n",
       "    .dataframe tbody tr th {\n",
       "        vertical-align: top;\n",
       "    }\n",
       "\n",
       "    .dataframe thead th {\n",
       "        text-align: right;\n",
       "    }\n",
       "</style>\n",
       "<table border=\"1\" class=\"dataframe\">\n",
       "  <thead>\n",
       "    <tr style=\"text-align: right;\">\n",
       "      <th></th>\n",
       "      <th>Amount</th>\n",
       "    </tr>\n",
       "  </thead>\n",
       "  <tbody>\n",
       "    <tr>\n",
       "      <th>0</th>\n",
       "      <td>1.2</td>\n",
       "    </tr>\n",
       "    <tr>\n",
       "      <th>1</th>\n",
       "      <td>5.3</td>\n",
       "    </tr>\n",
       "  </tbody>\n",
       "</table>\n",
       "</div>"
      ],
      "text/plain": [
       "   Amount\n",
       "0     1.2\n",
       "1     5.3"
      ]
     },
     "metadata": {},
     "output_type": "display_data"
    }
   ],
   "source": [
    "# Create savings DataFrame\n",
    "# YOUR CODE HERE!\n",
    "df_savings=pd.DataFrame()\n",
    "savings_crypto={\n",
    "    'Amount':[my_btc,my_eth],\n",
    "}\n",
    "\n",
    "df_savings=pd.DataFrame(savings_crypto)\n",
    "# # df_savings=df_savings.set_index(['BTC','ETH'])\n",
    "# df_savings.rename(index={0: \"BTC\", 1: \"ETH\"})\n",
    "# df_savings.rename({0: \"BTC\", 1:\"ETH\"}, axis='index')\n",
    "\n",
    "# Display savings DataFrame\n",
    "display(df_savings)"
   ]
  },
  {
   "cell_type": "code",
   "execution_count": 43,
   "metadata": {},
   "outputs": [
    {
     "data": {
      "text/plain": [
       "<matplotlib.axes._subplots.AxesSubplot at 0x22bb5b80548>"
      ]
     },
     "execution_count": 43,
     "metadata": {},
     "output_type": "execute_result"
    },
    {
     "data": {
      "image/png": "[encoded data removed]",
      "text/plain": [
       "<Figure size 432x288 with 1 Axes>"
      ]
     },
     "metadata": {},
     "output_type": "display_data"
    }
   ],
   "source": [
    "# Plot savings pie chart\n",
    "# YOUR CODE HERE!\n",
    "df_savings.plot.pie(y='Amount', title=\"Bitcoin Composition\")"
   ]
  },
  {
   "cell_type": "code",
   "execution_count": 44,
   "metadata": {},
   "outputs": [
    {
     "name": "stdout",
     "output_type": "stream",
     "text": [
      " Congratulations! Your total savings of $56206.138 exceeds your goal!\n"
     ]
    }
   ],
   "source": [
    "# Set ideal emergency fund\n",
    "emergency_fund = monthly_household_income * 3\n",
    "\n",
    "# Calculate total amount of savings\n",
    "# YOUR CODE HERE!\n",
    "total_savings=my_btc_value+my_eth_value+my_agg_value + my_spy_value\n",
    "# Validate saving health\n",
    "# YOUR CODE HERE!\n",
    "if total_savings > emergency_fund:\n",
    "    print(f' Congratulations! Your total savings of ${total_savings} exceeds your goal!')\n",
    "elif total_savings == emergency_fund:\n",
    "    print (f' Congratulations! Your total savings of ${total_savings} meets your goal!')\n",
    "else:\n",
    "    print(f' You still need ${(emergency_fund-total_savings)} to reach your goal!')"
   ]
  },
  {
   "cell_type": "markdown",
   "metadata": {},
   "source": [
    "## Part 2 - Retirement Planning\n",
    "\n",
    "### Monte Carlo Simulation"
   ]
  },
  {
   "cell_type": "code",
   "execution_count": 47,
   "metadata": {},
   "outputs": [],
   "source": [
    "# Set start and end dates of five years back from today.\n",
    "# Sample results may vary from the solution based on the time frame chosen\n",
    "'''Using code learned in class'''\n",
    "end_date=pd.Timestamp.now(tz='America/New_York')\n",
    "start_date=(end_date-pd.DateOffset(years=5)).isoformat()\n",
    "\n",
    "# start_date = pd.Timestamp('2015-08-07', tz='America/New_York').isoformat()\n",
    "# end_date = pd.Timestamp('2020-08-07', tz='America/New_York').isoformat()"
   ]
  },
  {
   "cell_type": "code",
   "execution_count": 50,
   "metadata": {},
   "outputs": [
    {
     "data": {
      "text/html": [
       "<div>\n",
       "<style scoped>\n",
       "    .dataframe tbody tr th:only-of-type {\n",
       "        vertical-align: middle;\n",
       "    }\n",
       "\n",
       "    .dataframe tbody tr th {\n",
       "        vertical-align: top;\n",
       "    }\n",
       "\n",
       "    .dataframe thead tr th {\n",
       "        text-align: left;\n",
       "    }\n",
       "</style>\n",
       "<table border=\"1\" class=\"dataframe\">\n",
       "  <thead>\n",
       "    <tr>\n",
       "      <th></th>\n",
       "      <th colspan=\"5\" halign=\"left\">AGG</th>\n",
       "      <th colspan=\"5\" halign=\"left\">SPY</th>\n",
       "    </tr>\n",
       "    <tr>\n",
       "      <th></th>\n",
       "      <th>open</th>\n",
       "      <th>high</th>\n",
       "      <th>low</th>\n",
       "      <th>close</th>\n",
       "      <th>volume</th>\n",
       "      <th>open</th>\n",
       "      <th>high</th>\n",
       "      <th>low</th>\n",
       "      <th>close</th>\n",
       "      <th>volume</th>\n",
       "    </tr>\n",
       "  </thead>\n",
       "  <tbody>\n",
       "    <tr>\n",
       "      <th>2015-08-25</th>\n",
       "      <td>109.70</td>\n",
       "      <td>109.700</td>\n",
       "      <td>109.13</td>\n",
       "      <td>109.450</td>\n",
       "      <td>3843124</td>\n",
       "      <td>195.43</td>\n",
       "      <td>195.450</td>\n",
       "      <td>187.06</td>\n",
       "      <td>187.24</td>\n",
       "      <td>270267060</td>\n",
       "    </tr>\n",
       "    <tr>\n",
       "      <th>2015-08-26</th>\n",
       "      <td>109.08</td>\n",
       "      <td>109.410</td>\n",
       "      <td>108.88</td>\n",
       "      <td>108.950</td>\n",
       "      <td>3673170</td>\n",
       "      <td>192.08</td>\n",
       "      <td>194.790</td>\n",
       "      <td>188.37</td>\n",
       "      <td>194.56</td>\n",
       "      <td>255843495</td>\n",
       "    </tr>\n",
       "    <tr>\n",
       "      <th>2015-08-27</th>\n",
       "      <td>108.95</td>\n",
       "      <td>109.195</td>\n",
       "      <td>108.93</td>\n",
       "      <td>109.100</td>\n",
       "      <td>3454665</td>\n",
       "      <td>197.02</td>\n",
       "      <td>199.410</td>\n",
       "      <td>195.21</td>\n",
       "      <td>199.28</td>\n",
       "      <td>226847229</td>\n",
       "    </tr>\n",
       "    <tr>\n",
       "      <th>2015-08-28</th>\n",
       "      <td>109.34</td>\n",
       "      <td>109.370</td>\n",
       "      <td>108.93</td>\n",
       "      <td>109.001</td>\n",
       "      <td>4604866</td>\n",
       "      <td>198.50</td>\n",
       "      <td>199.835</td>\n",
       "      <td>197.92</td>\n",
       "      <td>199.28</td>\n",
       "      <td>111959716</td>\n",
       "    </tr>\n",
       "    <tr>\n",
       "      <th>2015-08-31</th>\n",
       "      <td>109.28</td>\n",
       "      <td>109.370</td>\n",
       "      <td>108.90</td>\n",
       "      <td>108.920</td>\n",
       "      <td>3866305</td>\n",
       "      <td>198.11</td>\n",
       "      <td>199.125</td>\n",
       "      <td>197.01</td>\n",
       "      <td>197.60</td>\n",
       "      <td>108023599</td>\n",
       "    </tr>\n",
       "  </tbody>\n",
       "</table>\n",
       "</div>"
      ],
      "text/plain": [
       "               AGG                                        SPY           \\\n",
       "              open     high     low    close   volume    open     high   \n",
       "2015-08-25  109.70  109.700  109.13  109.450  3843124  195.43  195.450   \n",
       "2015-08-26  109.08  109.410  108.88  108.950  3673170  192.08  194.790   \n",
       "2015-08-27  108.95  109.195  108.93  109.100  3454665  197.02  199.410   \n",
       "2015-08-28  109.34  109.370  108.93  109.001  4604866  198.50  199.835   \n",
       "2015-08-31  109.28  109.370  108.90  108.920  3866305  198.11  199.125   \n",
       "\n",
       "                                       \n",
       "               low   close     volume  \n",
       "2015-08-25  187.06  187.24  270267060  \n",
       "2015-08-26  188.37  194.56  255843495  \n",
       "2015-08-27  195.21  199.28  226847229  \n",
       "2015-08-28  197.92  199.28  111959716  \n",
       "2015-08-31  197.01  197.60  108023599  "
      ]
     },
     "execution_count": 50,
     "metadata": {},
     "output_type": "execute_result"
    }
   ],
   "source": [
    "# Get 5 years' worth of historical data for SPY and AGG\n",
    "# YOUR CODE HERE!\n",
    "df_stock_data=alpaca.get_barset(\n",
    "    tickers,\n",
    "    timeframe,\n",
    "    start=start_date,\n",
    "    end=end_date\n",
    ").df\n",
    "# Display sample data\n",
    "df_stock_data.index=df_stock_data.index.date\n",
    "df_stock_data.head()"
   ]
  },
  {
   "cell_type": "code",
   "execution_count": 52,
   "metadata": {},
   "outputs": [],
   "source": [
    "# Configuring a Monte Carlo simulation to forecast 30 years cumulative returns\n",
    "# YOUR CODE HERE!\n",
    "mc_dist=MCSimulation(\n",
    "    portfolio_data=df_stock_data,\n",
    "    weights=[.40,.60],\n",
    "    num_simulation=500,\n",
    "    num_trading_days=252*30\n",
    ")"
   ]
  },
  {
   "cell_type": "code",
   "execution_count": 55,
   "metadata": {},
   "outputs": [
    {
     "data": {
      "text/html": [
       "<div>\n",
       "<style scoped>\n",
       "    .dataframe tbody tr th:only-of-type {\n",
       "        vertical-align: middle;\n",
       "    }\n",
       "\n",
       "    .dataframe tbody tr th {\n",
       "        vertical-align: top;\n",
       "    }\n",
       "\n",
       "    .dataframe thead tr th {\n",
       "        text-align: left;\n",
       "    }\n",
       "</style>\n",
       "<table border=\"1\" class=\"dataframe\">\n",
       "  <thead>\n",
       "    <tr>\n",
       "      <th></th>\n",
       "      <th colspan=\"6\" halign=\"left\">AGG</th>\n",
       "      <th colspan=\"6\" halign=\"left\">SPY</th>\n",
       "    </tr>\n",
       "    <tr>\n",
       "      <th></th>\n",
       "      <th>open</th>\n",
       "      <th>high</th>\n",
       "      <th>low</th>\n",
       "      <th>close</th>\n",
       "      <th>volume</th>\n",
       "      <th>daily_return</th>\n",
       "      <th>open</th>\n",
       "      <th>high</th>\n",
       "      <th>low</th>\n",
       "      <th>close</th>\n",
       "      <th>volume</th>\n",
       "      <th>daily_return</th>\n",
       "    </tr>\n",
       "  </thead>\n",
       "  <tbody>\n",
       "    <tr>\n",
       "      <th>2015-08-25</th>\n",
       "      <td>109.70</td>\n",
       "      <td>109.700</td>\n",
       "      <td>109.13</td>\n",
       "      <td>109.450</td>\n",
       "      <td>3843124</td>\n",
       "      <td>NaN</td>\n",
       "      <td>195.43</td>\n",
       "      <td>195.450</td>\n",
       "      <td>187.06</td>\n",
       "      <td>187.24</td>\n",
       "      <td>270267060</td>\n",
       "      <td>NaN</td>\n",
       "    </tr>\n",
       "    <tr>\n",
       "      <th>2015-08-26</th>\n",
       "      <td>109.08</td>\n",
       "      <td>109.410</td>\n",
       "      <td>108.88</td>\n",
       "      <td>108.950</td>\n",
       "      <td>3673170</td>\n",
       "      <td>-0.004568</td>\n",
       "      <td>192.08</td>\n",
       "      <td>194.790</td>\n",
       "      <td>188.37</td>\n",
       "      <td>194.56</td>\n",
       "      <td>255843495</td>\n",
       "      <td>0.039094</td>\n",
       "    </tr>\n",
       "    <tr>\n",
       "      <th>2015-08-27</th>\n",
       "      <td>108.95</td>\n",
       "      <td>109.195</td>\n",
       "      <td>108.93</td>\n",
       "      <td>109.100</td>\n",
       "      <td>3454665</td>\n",
       "      <td>0.001377</td>\n",
       "      <td>197.02</td>\n",
       "      <td>199.410</td>\n",
       "      <td>195.21</td>\n",
       "      <td>199.28</td>\n",
       "      <td>226847229</td>\n",
       "      <td>0.024260</td>\n",
       "    </tr>\n",
       "    <tr>\n",
       "      <th>2015-08-28</th>\n",
       "      <td>109.34</td>\n",
       "      <td>109.370</td>\n",
       "      <td>108.93</td>\n",
       "      <td>109.001</td>\n",
       "      <td>4604866</td>\n",
       "      <td>-0.000907</td>\n",
       "      <td>198.50</td>\n",
       "      <td>199.835</td>\n",
       "      <td>197.92</td>\n",
       "      <td>199.28</td>\n",
       "      <td>111959716</td>\n",
       "      <td>0.000000</td>\n",
       "    </tr>\n",
       "    <tr>\n",
       "      <th>2015-08-31</th>\n",
       "      <td>109.28</td>\n",
       "      <td>109.370</td>\n",
       "      <td>108.90</td>\n",
       "      <td>108.920</td>\n",
       "      <td>3866305</td>\n",
       "      <td>-0.000743</td>\n",
       "      <td>198.11</td>\n",
       "      <td>199.125</td>\n",
       "      <td>197.01</td>\n",
       "      <td>197.60</td>\n",
       "      <td>108023599</td>\n",
       "      <td>-0.008430</td>\n",
       "    </tr>\n",
       "  </tbody>\n",
       "</table>\n",
       "</div>"
      ],
      "text/plain": [
       "               AGG                                                     SPY  \\\n",
       "              open     high     low    close   volume daily_return    open   \n",
       "2015-08-25  109.70  109.700  109.13  109.450  3843124          NaN  195.43   \n",
       "2015-08-26  109.08  109.410  108.88  108.950  3673170    -0.004568  192.08   \n",
       "2015-08-27  108.95  109.195  108.93  109.100  3454665     0.001377  197.02   \n",
       "2015-08-28  109.34  109.370  108.93  109.001  4604866    -0.000907  198.50   \n",
       "2015-08-31  109.28  109.370  108.90  108.920  3866305    -0.000743  198.11   \n",
       "\n",
       "                                                             \n",
       "               high     low   close     volume daily_return  \n",
       "2015-08-25  195.450  187.06  187.24  270267060          NaN  \n",
       "2015-08-26  194.790  188.37  194.56  255843495     0.039094  \n",
       "2015-08-27  199.410  195.21  199.28  226847229     0.024260  \n",
       "2015-08-28  199.835  197.92  199.28  111959716     0.000000  \n",
       "2015-08-31  199.125  197.01  197.60  108023599    -0.008430  "
      ]
     },
     "execution_count": 55,
     "metadata": {},
     "output_type": "execute_result"
    }
   ],
   "source": [
    "# Printing the simulation input data\n",
    "# YOUR CODE HERE!\n",
    "mc_dist.portfolio_data.head()"
   ]
  },
  {
   "cell_type": "code",
   "execution_count": 56,
   "metadata": {},
   "outputs": [
    {
     "name": "stdout",
     "output_type": "stream",
     "text": [
      "Running Monte Carlo simulation number 0.\n",
      "Running Monte Carlo simulation number 10.\n",
      "Running Monte Carlo simulation number 20.\n",
      "Running Monte Carlo simulation number 30.\n",
      "Running Monte Carlo simulation number 40.\n",
      "Running Monte Carlo simulation number 50.\n",
      "Running Monte Carlo simulation number 60.\n",
      "Running Monte Carlo simulation number 70.\n",
      "Running Monte Carlo simulation number 80.\n",
      "Running Monte Carlo simulation number 90.\n",
      "Running Monte Carlo simulation number 100.\n",
      "Running Monte Carlo simulation number 110.\n",
      "Running Monte Carlo simulation number 120.\n",
      "Running Monte Carlo simulation number 130.\n",
      "Running Monte Carlo simulation number 140.\n",
      "Running Monte Carlo simulation number 150.\n",
      "Running Monte Carlo simulation number 160.\n",
      "Running Monte Carlo simulation number 170.\n",
      "Running Monte Carlo simulation number 180.\n",
      "Running Monte Carlo simulation number 190.\n",
      "Running Monte Carlo simulation number 200.\n",
      "Running Monte Carlo simulation number 210.\n",
      "Running Monte Carlo simulation number 220.\n",
      "Running Monte Carlo simulation number 230.\n",
      "Running Monte Carlo simulation number 240.\n",
      "Running Monte Carlo simulation number 250.\n",
      "Running Monte Carlo simulation number 260.\n",
      "Running Monte Carlo simulation number 270.\n",
      "Running Monte Carlo simulation number 280.\n",
      "Running Monte Carlo simulation number 290.\n",
      "Running Monte Carlo simulation number 300.\n",
      "Running Monte Carlo simulation number 310.\n",
      "Running Monte Carlo simulation number 320.\n",
      "Running Monte Carlo simulation number 330.\n",
      "Running Monte Carlo simulation number 340.\n",
      "Running Monte Carlo simulation number 350.\n",
      "Running Monte Carlo simulation number 360.\n",
      "Running Monte Carlo simulation number 370.\n",
      "Running Monte Carlo simulation number 380.\n",
      "Running Monte Carlo simulation number 390.\n",
      "Running Monte Carlo simulation number 400.\n",
      "Running Monte Carlo simulation number 410.\n",
      "Running Monte Carlo simulation number 420.\n",
      "Running Monte Carlo simulation number 430.\n",
      "Running Monte Carlo simulation number 440.\n",
      "Running Monte Carlo simulation number 450.\n",
      "Running Monte Carlo simulation number 460.\n",
      "Running Monte Carlo simulation number 470.\n",
      "Running Monte Carlo simulation number 480.\n",
      "Running Monte Carlo simulation number 490.\n"
     ]
    },
    {
     "data": {
      "text/html": [
       "<div>\n",
       "<style scoped>\n",
       "    .dataframe tbody tr th:only-of-type {\n",
       "        vertical-align: middle;\n",
       "    }\n",
       "\n",
       "    .dataframe tbody tr th {\n",
       "        vertical-align: top;\n",
       "    }\n",
       "\n",
       "    .dataframe thead th {\n",
       "        text-align: right;\n",
       "    }\n",
       "</style>\n",
       "<table border=\"1\" class=\"dataframe\">\n",
       "  <thead>\n",
       "    <tr style=\"text-align: right;\">\n",
       "      <th></th>\n",
       "      <th>0</th>\n",
       "      <th>1</th>\n",
       "      <th>2</th>\n",
       "      <th>3</th>\n",
       "      <th>4</th>\n",
       "      <th>5</th>\n",
       "      <th>6</th>\n",
       "      <th>7</th>\n",
       "      <th>8</th>\n",
       "      <th>9</th>\n",
       "      <th>...</th>\n",
       "      <th>490</th>\n",
       "      <th>491</th>\n",
       "      <th>492</th>\n",
       "      <th>493</th>\n",
       "      <th>494</th>\n",
       "      <th>495</th>\n",
       "      <th>496</th>\n",
       "      <th>497</th>\n",
       "      <th>498</th>\n",
       "      <th>499</th>\n",
       "    </tr>\n",
       "  </thead>\n",
       "  <tbody>\n",
       "    <tr>\n",
       "      <th>0</th>\n",
       "      <td>1.000000</td>\n",
       "      <td>1.000000</td>\n",
       "      <td>1.000000</td>\n",
       "      <td>1.000000</td>\n",
       "      <td>1.000000</td>\n",
       "      <td>1.000000</td>\n",
       "      <td>1.000000</td>\n",
       "      <td>1.000000</td>\n",
       "      <td>1.000000</td>\n",
       "      <td>1.000000</td>\n",
       "      <td>...</td>\n",
       "      <td>1.000000</td>\n",
       "      <td>1.000000</td>\n",
       "      <td>1.000000</td>\n",
       "      <td>1.000000</td>\n",
       "      <td>1.000000</td>\n",
       "      <td>1.000000</td>\n",
       "      <td>1.000000</td>\n",
       "      <td>1.000000</td>\n",
       "      <td>1.000000</td>\n",
       "      <td>1.000000</td>\n",
       "    </tr>\n",
       "    <tr>\n",
       "      <th>1</th>\n",
       "      <td>0.995789</td>\n",
       "      <td>0.981259</td>\n",
       "      <td>0.998334</td>\n",
       "      <td>0.997306</td>\n",
       "      <td>1.003293</td>\n",
       "      <td>1.005540</td>\n",
       "      <td>1.007059</td>\n",
       "      <td>0.996923</td>\n",
       "      <td>1.002877</td>\n",
       "      <td>1.010913</td>\n",
       "      <td>...</td>\n",
       "      <td>0.994206</td>\n",
       "      <td>1.004253</td>\n",
       "      <td>0.991604</td>\n",
       "      <td>1.004060</td>\n",
       "      <td>1.003999</td>\n",
       "      <td>1.004296</td>\n",
       "      <td>1.002936</td>\n",
       "      <td>0.985723</td>\n",
       "      <td>1.011740</td>\n",
       "      <td>1.002133</td>\n",
       "    </tr>\n",
       "    <tr>\n",
       "      <th>2</th>\n",
       "      <td>1.006758</td>\n",
       "      <td>0.992048</td>\n",
       "      <td>1.011070</td>\n",
       "      <td>0.987083</td>\n",
       "      <td>1.000298</td>\n",
       "      <td>1.005900</td>\n",
       "      <td>1.012841</td>\n",
       "      <td>1.002844</td>\n",
       "      <td>1.006108</td>\n",
       "      <td>1.012059</td>\n",
       "      <td>...</td>\n",
       "      <td>1.004123</td>\n",
       "      <td>1.006688</td>\n",
       "      <td>0.992864</td>\n",
       "      <td>1.012723</td>\n",
       "      <td>1.011209</td>\n",
       "      <td>0.999481</td>\n",
       "      <td>0.993000</td>\n",
       "      <td>0.980948</td>\n",
       "      <td>1.010526</td>\n",
       "      <td>1.009373</td>\n",
       "    </tr>\n",
       "    <tr>\n",
       "      <th>3</th>\n",
       "      <td>0.991961</td>\n",
       "      <td>0.999090</td>\n",
       "      <td>1.019504</td>\n",
       "      <td>0.992619</td>\n",
       "      <td>1.007631</td>\n",
       "      <td>1.011425</td>\n",
       "      <td>1.019343</td>\n",
       "      <td>0.991163</td>\n",
       "      <td>1.000057</td>\n",
       "      <td>1.023476</td>\n",
       "      <td>...</td>\n",
       "      <td>1.014094</td>\n",
       "      <td>0.997145</td>\n",
       "      <td>0.997356</td>\n",
       "      <td>1.005380</td>\n",
       "      <td>1.019139</td>\n",
       "      <td>1.012025</td>\n",
       "      <td>0.991309</td>\n",
       "      <td>0.990287</td>\n",
       "      <td>1.017175</td>\n",
       "      <td>0.993967</td>\n",
       "    </tr>\n",
       "    <tr>\n",
       "      <th>4</th>\n",
       "      <td>1.001344</td>\n",
       "      <td>0.990608</td>\n",
       "      <td>1.025305</td>\n",
       "      <td>0.997413</td>\n",
       "      <td>1.003000</td>\n",
       "      <td>1.005873</td>\n",
       "      <td>1.024874</td>\n",
       "      <td>0.993446</td>\n",
       "      <td>0.980135</td>\n",
       "      <td>1.016440</td>\n",
       "      <td>...</td>\n",
       "      <td>1.007236</td>\n",
       "      <td>1.019353</td>\n",
       "      <td>1.003878</td>\n",
       "      <td>1.004025</td>\n",
       "      <td>1.018164</td>\n",
       "      <td>1.013907</td>\n",
       "      <td>0.981132</td>\n",
       "      <td>0.991636</td>\n",
       "      <td>1.022155</td>\n",
       "      <td>0.985595</td>\n",
       "    </tr>\n",
       "    <tr>\n",
       "      <th>...</th>\n",
       "      <td>...</td>\n",
       "      <td>...</td>\n",
       "      <td>...</td>\n",
       "      <td>...</td>\n",
       "      <td>...</td>\n",
       "      <td>...</td>\n",
       "      <td>...</td>\n",
       "      <td>...</td>\n",
       "      <td>...</td>\n",
       "      <td>...</td>\n",
       "      <td>...</td>\n",
       "      <td>...</td>\n",
       "      <td>...</td>\n",
       "      <td>...</td>\n",
       "      <td>...</td>\n",
       "      <td>...</td>\n",
       "      <td>...</td>\n",
       "      <td>...</td>\n",
       "      <td>...</td>\n",
       "      <td>...</td>\n",
       "      <td>...</td>\n",
       "    </tr>\n",
       "    <tr>\n",
       "      <th>7556</th>\n",
       "      <td>7.073680</td>\n",
       "      <td>13.113428</td>\n",
       "      <td>7.989692</td>\n",
       "      <td>5.543933</td>\n",
       "      <td>21.703589</td>\n",
       "      <td>14.166927</td>\n",
       "      <td>12.711545</td>\n",
       "      <td>17.008277</td>\n",
       "      <td>13.801421</td>\n",
       "      <td>26.882710</td>\n",
       "      <td>...</td>\n",
       "      <td>12.104453</td>\n",
       "      <td>20.878882</td>\n",
       "      <td>10.616887</td>\n",
       "      <td>6.715806</td>\n",
       "      <td>36.381309</td>\n",
       "      <td>9.574008</td>\n",
       "      <td>20.861401</td>\n",
       "      <td>5.722680</td>\n",
       "      <td>6.421080</td>\n",
       "      <td>13.750792</td>\n",
       "    </tr>\n",
       "    <tr>\n",
       "      <th>7557</th>\n",
       "      <td>7.023617</td>\n",
       "      <td>13.182249</td>\n",
       "      <td>8.133361</td>\n",
       "      <td>5.572672</td>\n",
       "      <td>21.575746</td>\n",
       "      <td>14.167311</td>\n",
       "      <td>12.700718</td>\n",
       "      <td>17.009661</td>\n",
       "      <td>13.562679</td>\n",
       "      <td>26.852969</td>\n",
       "      <td>...</td>\n",
       "      <td>12.153211</td>\n",
       "      <td>20.888568</td>\n",
       "      <td>10.538753</td>\n",
       "      <td>6.655975</td>\n",
       "      <td>36.395480</td>\n",
       "      <td>9.434592</td>\n",
       "      <td>20.937476</td>\n",
       "      <td>5.790506</td>\n",
       "      <td>6.396066</td>\n",
       "      <td>13.660733</td>\n",
       "    </tr>\n",
       "    <tr>\n",
       "      <th>7558</th>\n",
       "      <td>7.088123</td>\n",
       "      <td>13.231740</td>\n",
       "      <td>8.114539</td>\n",
       "      <td>5.649253</td>\n",
       "      <td>21.665225</td>\n",
       "      <td>14.088750</td>\n",
       "      <td>12.778419</td>\n",
       "      <td>16.905884</td>\n",
       "      <td>13.601717</td>\n",
       "      <td>26.728833</td>\n",
       "      <td>...</td>\n",
       "      <td>12.238206</td>\n",
       "      <td>20.881046</td>\n",
       "      <td>10.514093</td>\n",
       "      <td>6.608714</td>\n",
       "      <td>36.449254</td>\n",
       "      <td>9.496554</td>\n",
       "      <td>21.021914</td>\n",
       "      <td>5.846612</td>\n",
       "      <td>6.470868</td>\n",
       "      <td>13.760726</td>\n",
       "    </tr>\n",
       "    <tr>\n",
       "      <th>7559</th>\n",
       "      <td>7.167971</td>\n",
       "      <td>13.153093</td>\n",
       "      <td>8.074886</td>\n",
       "      <td>5.695401</td>\n",
       "      <td>21.744276</td>\n",
       "      <td>14.041558</td>\n",
       "      <td>12.633786</td>\n",
       "      <td>17.084828</td>\n",
       "      <td>13.652330</td>\n",
       "      <td>26.788622</td>\n",
       "      <td>...</td>\n",
       "      <td>12.172717</td>\n",
       "      <td>21.248658</td>\n",
       "      <td>10.623813</td>\n",
       "      <td>6.615816</td>\n",
       "      <td>36.465443</td>\n",
       "      <td>9.545428</td>\n",
       "      <td>21.179459</td>\n",
       "      <td>5.843046</td>\n",
       "      <td>6.463380</td>\n",
       "      <td>13.664910</td>\n",
       "    </tr>\n",
       "    <tr>\n",
       "      <th>7560</th>\n",
       "      <td>7.171584</td>\n",
       "      <td>12.944114</td>\n",
       "      <td>8.108092</td>\n",
       "      <td>5.655772</td>\n",
       "      <td>21.669242</td>\n",
       "      <td>14.129491</td>\n",
       "      <td>12.762928</td>\n",
       "      <td>17.282738</td>\n",
       "      <td>13.889959</td>\n",
       "      <td>26.773010</td>\n",
       "      <td>...</td>\n",
       "      <td>12.030089</td>\n",
       "      <td>21.312103</td>\n",
       "      <td>10.622115</td>\n",
       "      <td>6.665187</td>\n",
       "      <td>36.472144</td>\n",
       "      <td>9.569297</td>\n",
       "      <td>21.141263</td>\n",
       "      <td>5.848438</td>\n",
       "      <td>6.519255</td>\n",
       "      <td>13.611343</td>\n",
       "    </tr>\n",
       "  </tbody>\n",
       "</table>\n",
       "<p>7561 rows × 500 columns</p>\n",
       "</div>"
      ],
      "text/plain": [
       "           0          1         2         3          4          5    \\\n",
       "0     1.000000   1.000000  1.000000  1.000000   1.000000   1.000000   \n",
       "1     0.995789   0.981259  0.998334  0.997306   1.003293   1.005540   \n",
       "2     1.006758   0.992048  1.011070  0.987083   1.000298   1.005900   \n",
       "3     0.991961   0.999090  1.019504  0.992619   1.007631   1.011425   \n",
       "4     1.001344   0.990608  1.025305  0.997413   1.003000   1.005873   \n",
       "...        ...        ...       ...       ...        ...        ...   \n",
       "7556  7.073680  13.113428  7.989692  5.543933  21.703589  14.166927   \n",
       "7557  7.023617  13.182249  8.133361  5.572672  21.575746  14.167311   \n",
       "7558  7.088123  13.231740  8.114539  5.649253  21.665225  14.088750   \n",
       "7559  7.167971  13.153093  8.074886  5.695401  21.744276  14.041558   \n",
       "7560  7.171584  12.944114  8.108092  5.655772  21.669242  14.129491   \n",
       "\n",
       "            6          7          8          9    ...        490        491  \\\n",
       "0      1.000000   1.000000   1.000000   1.000000  ...   1.000000   1.000000   \n",
       "1      1.007059   0.996923   1.002877   1.010913  ...   0.994206   1.004253   \n",
       "2      1.012841   1.002844   1.006108   1.012059  ...   1.004123   1.006688   \n",
       "3      1.019343   0.991163   1.000057   1.023476  ...   1.014094   0.997145   \n",
       "4      1.024874   0.993446   0.980135   1.016440  ...   1.007236   1.019353   \n",
       "...         ...        ...        ...        ...  ...        ...        ...   \n",
       "7556  12.711545  17.008277  13.801421  26.882710  ...  12.104453  20.878882   \n",
       "7557  12.700718  17.009661  13.562679  26.852969  ...  12.153211  20.888568   \n",
       "7558  12.778419  16.905884  13.601717  26.728833  ...  12.238206  20.881046   \n",
       "7559  12.633786  17.084828  13.652330  26.788622  ...  12.172717  21.248658   \n",
       "7560  12.762928  17.282738  13.889959  26.773010  ...  12.030089  21.312103   \n",
       "\n",
       "            492       493        494       495        496       497       498  \\\n",
       "0      1.000000  1.000000   1.000000  1.000000   1.000000  1.000000  1.000000   \n",
       "1      0.991604  1.004060   1.003999  1.004296   1.002936  0.985723  1.011740   \n",
       "2      0.992864  1.012723   1.011209  0.999481   0.993000  0.980948  1.010526   \n",
       "3      0.997356  1.005380   1.019139  1.012025   0.991309  0.990287  1.017175   \n",
       "4      1.003878  1.004025   1.018164  1.013907   0.981132  0.991636  1.022155   \n",
       "...         ...       ...        ...       ...        ...       ...       ...   \n",
       "7556  10.616887  6.715806  36.381309  9.574008  20.861401  5.722680  6.421080   \n",
       "7557  10.538753  6.655975  36.395480  9.434592  20.937476  5.790506  6.396066   \n",
       "7558  10.514093  6.608714  36.449254  9.496554  21.021914  5.846612  6.470868   \n",
       "7559  10.623813  6.615816  36.465443  9.545428  21.179459  5.843046  6.463380   \n",
       "7560  10.622115  6.665187  36.472144  9.569297  21.141263  5.848438  6.519255   \n",
       "\n",
       "            499  \n",
       "0      1.000000  \n",
       "1      1.002133  \n",
       "2      1.009373  \n",
       "3      0.993967  \n",
       "4      0.985595  \n",
       "...         ...  \n",
       "7556  13.750792  \n",
       "7557  13.660733  \n",
       "7558  13.760726  \n",
       "7559  13.664910  \n",
       "7560  13.611343  \n",
       "\n",
       "[7561 rows x 500 columns]"
      ]
     },
     "execution_count": 56,
     "metadata": {},
     "output_type": "execute_result"
    }
   ],
   "source": [
    "# Running a Monte Carlo simulation to forecast 30 years cumulative returns\n",
    "# YOUR CODE HERE!\n",
    "mc_dist.calc_cumulative_return()"
   ]
  },
  {
   "cell_type": "code",
   "execution_count": 57,
   "metadata": {},
   "outputs": [
    {
     "data": {
      "image/png": "[encoded data removed]",
      "text/plain": [
       "<Figure size 432x288 with 1 Axes>"
      ]
     },
     "metadata": {
      "needs_background": "light"
     },
     "output_type": "display_data"
    }
   ],
   "source": [
    "# Plot simulation outcomes\n",
    "# YOUR CODE HERE!\n",
    "mc_dist_lines_plot=mc_dist.plot_simulation()"
   ]
  },
  {
   "cell_type": "code",
   "execution_count": 60,
   "metadata": {},
   "outputs": [
    {
     "data": {
      "image/png": "[encoded data removed]",
      "text/plain": [
       "<Figure size 432x288 with 1 Axes>"
      ]
     },
     "metadata": {
      "needs_background": "light"
     },
     "output_type": "display_data"
    }
   ],
   "source": [
    "# Plot probability distribution and confidence intervals\n",
    "# YOUR CODE HERE!\n",
    "dist_plot= mc_dist.plot_distribution()"
   ]
  },
  {
   "cell_type": "markdown",
   "metadata": {},
   "source": [
    "### Retirement Analysis"
   ]
  },
  {
   "cell_type": "code",
   "execution_count": 61,
   "metadata": {},
   "outputs": [
    {
     "name": "stdout",
     "output_type": "stream",
     "text": [
      "count           500.000000\n",
      "mean             15.678033\n",
      "std              11.472028\n",
      "min               1.552989\n",
      "25%               8.004206\n",
      "50%              12.441365\n",
      "75%              20.040481\n",
      "max              98.920430\n",
      "95% CI Lower      3.592005\n",
      "95% CI Upper     46.256741\n",
      "Name: 7560, dtype: float64\n"
     ]
    }
   ],
   "source": [
    "# Fetch summary statistics from the Monte Carlo simulation results\n",
    "# YOUR CODE HERE!\n",
    "even_tbl=mc_dist.summarize_cumulative_return()\n",
    "# Print summary statistics\n",
    "print(even_tbl)"
   ]
  },
  {
   "cell_type": "markdown",
   "metadata": {},
   "source": [
    "### Given an initial investment of $20,000, what is the expected portfolio return in dollars at the 95% lower and upper confidence intervals?"
   ]
  },
  {
   "cell_type": "code",
   "execution_count": 64,
   "metadata": {},
   "outputs": [
    {
     "name": "stdout",
     "output_type": "stream",
     "text": [
      "There is a 95% chance that an initial investment of $20000 in the portfolio over the next 30 years will end within in the range of $71840.09 and $925134.83\n"
     ]
    }
   ],
   "source": [
    "# Set initial investment\n",
    "initial_investment = 20000\n",
    "\n",
    "ci_upper=round(even_tbl[9]*initial_investment,2)\n",
    "ci_lower=round(even_tbl[8]*initial_investment,2)\n",
    "\n",
    "# Use the lower and upper `95%` confidence intervals to calculate the range of the possible outcomes of our $20,000\n",
    "# YOUR CODE HERE!\n",
    "\n",
    "# Print results\n",
    "print(f\"There is a 95% chance that an initial investment of ${initial_investment} in the portfolio\"\n",
    "      f\" over the next 30 years will end within in the range of\"\n",
    "      f\" ${ci_lower} and ${ci_upper}\")"
   ]
  },
  {
   "cell_type": "markdown",
   "metadata": {},
   "source": [
    "### How would a 50% increase in the initial investment amount affect the expected portfolio return in dollars at the 95% lower and upper confidence intervals?"
   ]
  },
  {
   "cell_type": "code",
   "execution_count": 68,
   "metadata": {},
   "outputs": [
    {
     "name": "stdout",
     "output_type": "stream",
     "text": [
      "There is a 95% chance that an initial investment of $30000.0 in the portfolio over the next 30 years will end within in the range of $107760.14 and $1387702.24\n"
     ]
    }
   ],
   "source": [
    "# Set initial investment\n",
    "initial_investment = 20000 * 1.5\n",
    "\n",
    "# Use the lower and upper `95%` confidence intervals to calculate the range of the possible outcomes of our $30,000\n",
    "# YOUR CODE HERE!\n",
    "ci_upper_increased=round(even_tbl[9]*initial_investment,2)\n",
    "ci_lower_increased=round(even_tbl[8]*initial_investment,2)\n",
    "# Print results\n",
    "print(f\"There is a 95% chance that an initial investment of ${initial_investment} in the portfolio\"\n",
    "      f\" over the next 30 years will end within in the range of\"\n",
    "      f\" ${ci_lower_increased} and ${ci_upper_increased}\")"
   ]
  },
  {
   "cell_type": "markdown",
   "metadata": {},
   "source": [
    "## Optional Challenge - Early Retirement\n",
    "\n",
    "\n",
    "### Five Years Retirement Option"
   ]
  },
  {
   "cell_type": "code",
   "execution_count": null,
   "metadata": {},
   "outputs": [],
   "source": [
    "# Configuring a Monte Carlo simulation to forecast 5 years cumulative returns\n",
    "# YOUR CODE HERE!"
   ]
  },
  {
   "cell_type": "code",
   "execution_count": null,
   "metadata": {},
   "outputs": [],
   "source": [
    "# Running a Monte Carlo simulation to forecast 5 years cumulative returns\n",
    "# YOUR CODE HERE!"
   ]
  },
  {
   "cell_type": "code",
   "execution_count": null,
   "metadata": {},
   "outputs": [],
   "source": [
    "# Plot simulation outcomes\n",
    "# YOUR CODE HERE!"
   ]
  },
  {
   "cell_type": "code",
   "execution_count": null,
   "metadata": {},
   "outputs": [],
   "source": [
    "# Plot probability distribution and confidence intervals\n",
    "# YOUR CODE HERE!"
   ]
  },
  {
   "cell_type": "code",
   "execution_count": null,
   "metadata": {},
   "outputs": [],
   "source": [
    "# Fetch summary statistics from the Monte Carlo simulation results\n",
    "# YOUR CODE HERE!\n",
    "\n",
    "# Print summary statistics\n",
    "print(tbl_five)"
   ]
  },
  {
   "cell_type": "code",
   "execution_count": null,
   "metadata": {},
   "outputs": [],
   "source": [
    "# Set initial investment\n",
    "# YOUR CODE HERE!\n",
    "\n",
    "# Use the lower and upper `95%` confidence intervals to calculate the range of the possible outcomes of our $60,000\n",
    "# YOUR CODE HERE!\n",
    "\n",
    "# Print results\n",
    "print(f\"There is a 95% chance that an initial investment of ${initial_investment} in the portfolio\"\n",
    "      f\" over the next 5 years will end within in the range of\"\n",
    "      f\" ${ci_lower_five} and ${ci_upper_five}\")"
   ]
  },
  {
   "cell_type": "markdown",
   "metadata": {},
   "source": [
    "### Ten Years Retirement Option"
   ]
  },
  {
   "cell_type": "code",
   "execution_count": null,
   "metadata": {},
   "outputs": [],
   "source": [
    "# Configuring a Monte Carlo simulation to forecast 10 years cumulative returns\n",
    "# YOUR CODE HERE!"
   ]
  },
  {
   "cell_type": "code",
   "execution_count": null,
   "metadata": {},
   "outputs": [],
   "source": [
    "# Running a Monte Carlo simulation to forecast 10 years cumulative returns\n",
    "# YOUR CODE HERE!"
   ]
  },
  {
   "cell_type": "code",
   "execution_count": null,
   "metadata": {},
   "outputs": [],
   "source": [
    "# Plot simulation outcomes\n",
    "# YOUR CODE HERE!"
   ]
  },
  {
   "cell_type": "code",
   "execution_count": null,
   "metadata": {},
   "outputs": [],
   "source": [
    "# Plot probability distribution and confidence intervals\n",
    "# YOUR CODE HERE!"
   ]
  },
  {
   "cell_type": "code",
   "execution_count": null,
   "metadata": {},
   "outputs": [],
   "source": [
    "# Fetch summary statistics from the Monte Carlo simulation results\n",
    "# YOUR CODE HERE!\n",
    "\n",
    "# Print summary statistics\n",
    "print(tbl_ten)"
   ]
  },
  {
   "cell_type": "code",
   "execution_count": null,
   "metadata": {},
   "outputs": [],
   "source": [
    "# Set initial investment\n",
    "# YOUR CODE HERE!\n",
    "\n",
    "# Use the lower and upper `95%` confidence intervals to calculate the range of the possible outcomes of our $60,000\n",
    "# YOUR CODE HERE!\n",
    "\n",
    "# Print results\n",
    "print(f\"There is a 95% chance that an initial investment of ${initial_investment} in the portfolio\"\n",
    "      f\" over the next 10 years will end within in the range of\"\n",
    "      f\" ${ci_lower_ten} and ${ci_upper_ten}\")"
   ]
  }
 ],
 "metadata": {
  "kernelspec": {
   "display_name": "Python 3",
   "language": "python",
   "name": "python3"
  },
  "language_info": {
   "codemirror_mode": {
    "name": "ipython",
    "version": 3
   },
   "file_extension": ".py",
   "mimetype": "text/x-python",
   "name": "python",
   "nbconvert_exporter": "python",
   "pygments_lexer": "ipython3",
   "version": "3.7.6"
  }
 },
 "nbformat": 4,
 "nbformat_minor": 4
}
